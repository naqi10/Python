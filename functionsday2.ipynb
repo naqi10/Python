{
 "cells": [
  {
   "cell_type": "code",
   "execution_count": 3,
   "id": "24d2e293",
   "metadata": {},
   "outputs": [
    {
     "name": "stdout",
     "output_type": "stream",
     "text": [
      "Enter a number to check if it is prime:\n",
      "True\n"
     ]
    }
   ],
   "source": [
    "def is_prime(n):\n",
    "    if n <= 1:\n",
    "        return False\n",
    "    if n <= 3:\n",
    "        return True\n",
    "    if n%2 == 0 or n % 3 == 0:\n",
    "        return False\n",
    "    i = 5\n",
    "    while i * i <= n:\n",
    "        if n % i == 0 or n % (i + 2) == 0:\n",
    "            return False\n",
    "        i += 6\n",
    "    return True\n",
    "print(\"Enter a number to check if it is prime:\")\n",
    "print(is_prime(int(input())))"
   ]
  },
  {
   "cell_type": "code",
   "execution_count": 4,
   "id": "1b736695",
   "metadata": {},
   "outputs": [
    {
     "name": "stdout",
     "output_type": "stream",
     "text": [
      "[1, 2, 3, 4, 5]\n"
     ]
    }
   ],
   "source": [
    "def remove_duplicates(lst):\n",
    "    seen = set()\n",
    "    result = []\n",
    "    for item in lst:\n",
    "        if item not in seen:\n",
    "            seen.add(item)\n",
    "            result.append(item)\n",
    "    return result\n",
    "print(remove_duplicates([1, 2, 2, 3, 4, 4, 5]))"
   ]
  },
  {
   "cell_type": "code",
   "execution_count": 5,
   "id": "ea48e948",
   "metadata": {},
   "outputs": [
    {
     "name": "stdout",
     "output_type": "stream",
     "text": [
      "[1, 2, 3, 4, 5]\n"
     ]
    }
   ],
   "source": [
    "def flatten_list(nested):\n",
    "    return [item for sublist in nested for item in sublist]\n",
    "print(flatten_list([[1, 2], [3, 4], [5]]))"
   ]
  },
  {
   "cell_type": "code",
   "execution_count": 7,
   "id": "60a7783f",
   "metadata": {},
   "outputs": [
    {
     "name": "stdout",
     "output_type": "stream",
     "text": [
      "i\n"
     ]
    }
   ],
   "source": [
    "from collections import Counter\n",
    "import re\n",
    "\n",
    "def most_frequent_word(text):\n",
    "    word = re.findall(r'\\b\\w+\\b', text.lower())\n",
    "    count = Counter(word)\n",
    "    return count.most_common(1)[0] [0] if count else None\n",
    "print(most_frequent_word(\"I love coding and I love learning\"))\n",
    "\n"
   ]
  },
  {
   "cell_type": "code",
   "execution_count": 9,
   "id": "583f1cf0",
   "metadata": {},
   "outputs": [
    {
     "name": "stdout",
     "output_type": "stream",
     "text": [
      "6\n"
     ]
    }
   ],
   "source": [
    "def count_vowels(text):\n",
    "    vowels = 'aeiou'\n",
    "    return sum(1 for char in text.lower() if char in vowels)\n",
    "print(count_vowels(\"Skyrocket your Python skills!\"))\n"
   ]
  },
  {
   "cell_type": "code",
   "execution_count": 10,
   "id": "ea57fa52",
   "metadata": {},
   "outputs": [
    {
     "name": "stdout",
     "output_type": "stream",
     "text": [
      "['a', 'is', 'Python', 'powerful', 'language', 'programming']\n"
     ]
    }
   ],
   "source": [
    "def sort_words_by_length(text):\n",
    "    words = text.split()\n",
    "    words.sort(key=lambda w: len(w))\n",
    "    return words\n",
    "print(sort_words_by_length(\"Python is a powerful programming language\"))"
   ]
  },
  {
   "cell_type": "code",
   "execution_count": 11,
   "id": "8bb37035",
   "metadata": {},
   "outputs": [
    {
     "name": "stdout",
     "output_type": "stream",
     "text": [
      "[2, 4, 6, 8, 10]\n"
     ]
    }
   ],
   "source": [
    "def find_even_numbers(lst):\n",
    "    return [num for num in lst if num % 2 == 0]\n",
    "print(find_even_numbers([1, 2, 3, 4, 5, 6, 7, 8, 9, 10]))"
   ]
  },
  {
   "cell_type": "code",
   "execution_count": 12,
   "id": "a205c70c",
   "metadata": {},
   "outputs": [
    {
     "name": "stdout",
     "output_type": "stream",
     "text": [
      "120\n"
     ]
    }
   ],
   "source": [
    "def factorial(n):\n",
    "    if n == 0 or n ==1:\n",
    "        return 1\n",
    "    return n * factorial(n-1)\n",
    "print(factorial(5))"
   ]
  },
  {
   "cell_type": "code",
   "execution_count": 13,
   "id": "35e91802",
   "metadata": {},
   "outputs": [
    {
     "name": "stdout",
     "output_type": "stream",
     "text": [
      "{'python': 2, 'is': 2, 'great': 1, 'and': 1, 'easy': 1, 'to': 1, 'learn.': 1}\n"
     ]
    }
   ],
   "source": [
    "def words_counter(text):\n",
    "    words = text.lower().split()\n",
    "    counts = {}\n",
    "    \n",
    "    for word in words:\n",
    "        if word in counts:\n",
    "            counts[word] += 1\n",
    "        else:\n",
    "            counts[word] = 1\n",
    "    return counts\n",
    "print(words_counter(\"Python is great and Python is easy to learn.\"))"
   ]
  },
  {
   "cell_type": "code",
   "execution_count": 16,
   "id": "dba65d55",
   "metadata": {},
   "outputs": [
    {
     "name": "stdout",
     "output_type": "stream",
     "text": [
      "True\n",
      "False\n",
      "True\n"
     ]
    }
   ],
   "source": [
    "def is_palindrome(text):\n",
    "    text = text.lower().replace(\" \", \"\")\n",
    "    return text == text[::-1]\n",
    "print(is_palindrome(\"Madam\"))          \n",
    "print(is_palindrome(\"AI power\"))\n",
    "print(is_palindrome(\"racecar\"))\n"
   ]
  },
  {
   "cell_type": "code",
   "execution_count": null,
   "id": "05f28bd6",
   "metadata": {},
   "outputs": [],
   "source": []
  }
 ],
 "metadata": {
  "kernelspec": {
   "display_name": "Python 3",
   "language": "python",
   "name": "python3"
  },
  "language_info": {
   "codemirror_mode": {
    "name": "ipython",
    "version": 3
   },
   "file_extension": ".py",
   "mimetype": "text/x-python",
   "name": "python",
   "nbconvert_exporter": "python",
   "pygments_lexer": "ipython3",
   "version": "3.12.5"
  }
 },
 "nbformat": 4,
 "nbformat_minor": 5
}
