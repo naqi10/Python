{
 "cells": [
  {
   "cell_type": "code",
   "execution_count": 5,
   "id": "eaa3926a",
   "metadata": {},
   "outputs": [
    {
     "name": "stdout",
     "output_type": "stream",
     "text": [
      "Jhon is 22 years old, and 5.77 feet tall. Coder: True\n"
     ]
    }
   ],
   "source": [
    "name = 'Jhon'\n",
    "age = 22\n",
    "height = 5.77\n",
    "is_coder = True\n",
    "print(f\"{name} is {age} years old, and {height} feet tall. Coder: {is_coder}\")"
   ]
  },
  {
   "cell_type": "code",
   "execution_count": 6,
   "id": "f1800a1e",
   "metadata": {},
   "outputs": [
    {
     "name": "stdout",
     "output_type": "stream",
     "text": [
      "i am 23 years old and 5.8 feet tall\n"
     ]
    }
   ],
   "source": [
    "age = 23\n",
    "height = 5.8\n",
    "message = \"i am \" + str(age) + \" years old and \" + str(height) + \" feet tall\"\n",
    "print(message)"
   ]
  },
  {
   "cell_type": "code",
   "execution_count": 7,
   "id": "71860b3a",
   "metadata": {},
   "outputs": [
    {
     "name": "stdout",
     "output_type": "stream",
     "text": [
      "ZAIDI\n",
      "idiaz\n"
     ]
    }
   ],
   "source": [
    "name = 'zaidi'\n",
    "upper = name.upper()\n",
    "reversed_name = name[::-1]\n",
    "print(upper)\n",
    "print(reversed_name)"
   ]
  },
  {
   "cell_type": "code",
   "execution_count": 8,
   "id": "e23467e1",
   "metadata": {},
   "outputs": [
    {
     "name": "stdout",
     "output_type": "stream",
     "text": [
      "['a', 'i', 'i']\n"
     ]
    }
   ],
   "source": [
    "vowels = 'aeiouAEIOU'\n",
    "vowels_ltr = [ltr for ltr in name if ltr in vowels]\n",
    "print(vowels_ltr)\n"
   ]
  },
  {
   "cell_type": "code",
   "execution_count": 9,
   "id": "a1215fbc",
   "metadata": {},
   "outputs": [
    {
     "name": "stdout",
     "output_type": "stream",
     "text": [
      "z@idi\n"
     ]
    }
   ],
   "source": [
    "replaced_name = name.replace('a', '@')\n",
    "print(replaced_name)"
   ]
  },
  {
   "cell_type": "code",
   "execution_count": 10,
   "id": "03957048",
   "metadata": {},
   "outputs": [
    {
     "name": "stdout",
     "output_type": "stream",
     "text": [
      "Sum:10.0, Multiply: 25.0, Power: 3125.0, Reminder: 0.0, Division: 1.0\n"
     ]
    }
   ],
   "source": [
    "num1 = float(input(\"Enter First Number:\"))\n",
    "num2 = float(input(\"Enter Second Number:\"))\n",
    "sum_result = num1 + num2\n",
    "multiply_result = num1 * num2\n",
    "power_result = num1**num2\n",
    "reminder_result = num1 % num2\n",
    "division_result = num1 / num2\n",
    "print(f\"Sum:{sum_result}, Multiply: {multiply_result}, Power: {power_result}, Reminder: {reminder_result}, Division: {division_result}\")"
   ]
  },
  {
   "cell_type": "code",
   "execution_count": 11,
   "id": "0c33fe3f",
   "metadata": {},
   "outputs": [
    {
     "name": "stdout",
     "output_type": "stream",
     "text": [
      "can_drive: {True}\n"
     ]
    }
   ],
   "source": [
    "age = 18\n",
    "is_adult = age >= 18\n",
    "has_license = True\n",
    "can_drive = is_adult and has_license\n",
    "print(f\"can_drive:\",{can_drive})"
   ]
  },
  {
   "cell_type": "code",
   "execution_count": 12,
   "id": "5b521aff",
   "metadata": {},
   "outputs": [
    {
     "name": "stdout",
     "output_type": "stream",
     "text": [
      "list: 4\n"
     ]
    }
   ],
   "source": [
    "list = [1,4,7,5,8,2]\n",
    "print(\"list:\", list[1])"
   ]
  },
  {
   "cell_type": "code",
   "execution_count": 13,
   "id": "87a8ee7e",
   "metadata": {},
   "outputs": [
    {
     "name": "stdout",
     "output_type": "stream",
     "text": [
      "list2: 2 [5]\n"
     ]
    }
   ],
   "source": [
    "list2 = [1,2,3,4,5]\n",
    "print(\"list2:\", list2[1],[5])"
   ]
  },
  {
   "cell_type": "code",
   "execution_count": 14,
   "id": "bde9d3c7",
   "metadata": {},
   "outputs": [
    {
     "name": "stdout",
     "output_type": "stream",
     "text": [
      "[1, 4, 7, 5, 8, 2, 10]\n"
     ]
    }
   ],
   "source": [
    "list.append(10)\n",
    "print(list)"
   ]
  },
  {
   "cell_type": "code",
   "execution_count": 15,
   "id": "4b577eef",
   "metadata": {},
   "outputs": [
    {
     "name": "stdout",
     "output_type": "stream",
     "text": [
      "[1, 3, 4, 7, 5, 8, 2, 10]\n"
     ]
    }
   ],
   "source": [
    "list.insert(1, 3)\n",
    "print(list)"
   ]
  },
  {
   "cell_type": "code",
   "execution_count": 16,
   "id": "cf4df2f1",
   "metadata": {},
   "outputs": [
    {
     "data": {
      "text/plain": [
       "('print last element:', 32)"
      ]
     },
     "execution_count": 16,
     "metadata": {},
     "output_type": "execute_result"
    }
   ],
   "source": [
    "numbers = [10, 25, 67, 89, 71, 32]\n",
    "(\"print 2nd element:\", numbers[1])\n",
    "(\"print last element:\", numbers[-1])"
   ]
  },
  {
   "cell_type": "code",
   "execution_count": 17,
   "id": "f8cc9ff2",
   "metadata": {},
   "outputs": [
    {
     "name": "stdout",
     "output_type": "stream",
     "text": [
      "apppend and insert: [10, 25, 37, 67, 89, 71, 32, 100]\n"
     ]
    }
   ],
   "source": [
    "numbers.append(100)\n",
    "numbers.insert(2, 37)\n",
    "print(\"apppend and insert:\", numbers)"
   ]
  },
  {
   "cell_type": "code",
   "execution_count": 18,
   "id": "69033ce1",
   "metadata": {},
   "outputs": [
    {
     "name": "stdout",
     "output_type": "stream",
     "text": [
      "remove and sort: [10, 25, 32, 67, 71, 89, 100]\n"
     ]
    }
   ],
   "source": [
    "numbers.remove(37)\n",
    "numbers.sort()\n",
    "print(\"remove and sort:\", numbers)"
   ]
  },
  {
   "cell_type": "code",
   "execution_count": 19,
   "id": "24eb3fe7",
   "metadata": {},
   "outputs": [
    {
     "name": "stdout",
     "output_type": "stream",
     "text": [
      "reverse: [100, 89, 71, 67, 32, 25, 10]\n"
     ]
    }
   ],
   "source": [
    "numbers.reverse()\n",
    "print(\"reverse:\", numbers)"
   ]
  },
  {
   "cell_type": "code",
   "execution_count": 20,
   "id": "728f1f72",
   "metadata": {},
   "outputs": [
    {
     "name": "stdout",
     "output_type": "stream",
     "text": [
      "[100, 89, 71]\n"
     ]
    }
   ],
   "source": [
    "first_three = numbers[0:3]\n",
    "print(first_three)"
   ]
  },
  {
   "cell_type": "markdown",
   "id": "9e42c115",
   "metadata": {},
   "source": [
    "Async Programming"
   ]
  },
  {
   "cell_type": "code",
   "execution_count": 21,
   "id": "a3b441b8",
   "metadata": {},
   "outputs": [],
   "source": [
    "import asyncio\n",
    "\n",
    "async def make_pizza(flavor):\n",
    "    print(f\"Making {flavor} pizza...\")\n",
    "    await asyncio.sleep(1)  # Simulate some async work\n",
    "    print(f\"{flavor} pizza is ready!\")\n",
    "\n",
    "async def main():\n",
    "    await asyncio.gather(make_pizza(\"Pepperoni\"), make_pizza(\"Cheese\"))\n",
    "\n",
    "# This line causes the error\n",
    "# asyncio.run(main())"
   ]
  },
  {
   "cell_type": "code",
   "execution_count": 22,
   "id": "89eda468",
   "metadata": {},
   "outputs": [
    {
     "name": "stdout",
     "output_type": "stream",
     "text": [
      "Making Pepperoni pizza...\n",
      "Making Cheese pizza...\n"
     ]
    },
    {
     "name": "stdout",
     "output_type": "stream",
     "text": [
      "Pepperoni pizza is ready!\n",
      "Cheese pizza is ready!\n"
     ]
    }
   ],
   "source": [
    "import asyncio\n",
    "\n",
    "async def make_pizza(flavor):\n",
    "    print(f\"Making {flavor} pizza...\")\n",
    "    await asyncio.sleep(1)  # Simulate some async work\n",
    "    print(f\"{flavor} pizza is ready!\")\n",
    "\n",
    "async def main():\n",
    "    await asyncio.gather(make_pizza(\"Pepperoni\"), make_pizza(\"Cheese\"))\n",
    "\n",
    "# Use await directly (works in Jupyter/IPython with top-level await support)\n",
    "await main()"
   ]
  },
  {
   "cell_type": "code",
   "execution_count": 23,
   "id": "9e173101",
   "metadata": {},
   "outputs": [
    {
     "name": "stdout",
     "output_type": "stream",
     "text": [
      "Making Pepperoni pizza...\n",
      "Making Cheese pizza...\n",
      "Pepperoni pizza is ready!\n",
      "Cheese pizza is ready!\n"
     ]
    }
   ],
   "source": [
    "import asyncio\n",
    "import nest_asyncio\n",
    "\n",
    "# Apply nest_asyncio to allow nested event loops\n",
    "nest_asyncio.apply()\n",
    "\n",
    "async def make_pizza(flavor):\n",
    "    print(f\"Making {flavor} pizza...\")\n",
    "    await asyncio.sleep(1)  # Simulate some async work\n",
    "    print(f\"{flavor} pizza is ready!\")\n",
    "\n",
    "async def main():\n",
    "    await asyncio.gather(make_pizza(\"Pepperoni\"), make_pizza(\"Cheese\"))\n",
    "\n",
    "# Run the async program\n",
    "asyncio.run(main())"
   ]
  },
  {
   "cell_type": "code",
   "execution_count": 24,
   "id": "09425466",
   "metadata": {},
   "outputs": [
    {
     "name": "stdout",
     "output_type": "stream",
     "text": [
      "Starting to make Pepperoni at 17:43:23...\n",
      "Starting to make Cheese at 17:43:23...\n",
      "Starting to make Veggie at 17:43:23...\n",
      "Starting to set the table at {time.strftime('%X')}...\n",
      "Finished setting the table at {time.strftime('%X')}!\n",
      "Finished making Pepperoni at 17:43:25!\n",
      "Finished making Cheese at 17:43:25!\n",
      "Finished making Veggie at 17:43:26!\n"
     ]
    }
   ],
   "source": [
    "import asyncio\n",
    "import time\n",
    "\n",
    "# Async function to make a pizza\n",
    "async def make_pizza(pizza_name, bake_time):\n",
    "    print(f\"Starting to make {pizza_name} at {time.strftime('%X')}...\")\n",
    "    await asyncio.sleep(bake_time)  # Wait for baking\n",
    "    print(f\"Finished making {pizza_name} at {time.strftime('%X')}!\")\n",
    "\n",
    "# Async function to set the table\n",
    "async def set_table():\n",
    "    print(\"Starting to set the table at {time.strftime('%X')}...\")\n",
    "    await asyncio.sleep(1)  # Takes 1 second\n",
    "    print(\"Finished setting the table at {time.strftime('%X')}!\")\n",
    "\n",
    "# Main function to run all tasks\n",
    "async def main():\n",
    "    # Run all tasks together\n",
    "    await asyncio.gather(\n",
    "        make_pizza(\"Pepperoni\", 2),\n",
    "        make_pizza(\"Cheese\", 2),\n",
    "        make_pizza(\"Veggie\", 3),\n",
    "        set_table()\n",
    "    )\n",
    "\n",
    "# Run the async program\n",
    "asyncio.run(main())"
   ]
  },
  {
   "cell_type": "markdown",
   "id": "dbc67dc0",
   "metadata": {},
   "source": [
    "Logging and Alerting"
   ]
  },
  {
   "cell_type": "code",
   "execution_count": 25,
   "id": "037a498c",
   "metadata": {},
   "outputs": [
    {
     "name": "stderr",
     "output_type": "stream",
     "text": [
      "2025-06-10 17:48:19,040 - INFO - Starting the pizza shop!\n",
      "2025-06-10 17:48:19,042 - INFO - Baking Pepperoni pizza...\n",
      "2025-06-10 17:48:19,044 - WARNING - Oven is too hot!\n",
      "2025-06-10 17:48:19,044 - ERROR - Pizza burned! Oh no!\n",
      "2025-06-10 17:48:19,045 - INFO - Made a new Cheese pizza successfully!\n"
     ]
    }
   ],
   "source": [
    "import logging\n",
    "\n",
    "# Set up our detective notebook (logger)\n",
    "logging.basicConfig(level=logging.INFO, format='%(asctime)s - %(levelname)s - %(message)s')\n",
    "\n",
    "# Start making pizzas\n",
    "logging.info(\"Starting the pizza shop!\")\n",
    "logging.debug(\"Mixing dough for Pepperoni pizza.\")\n",
    "logging.info(\"Baking Pepperoni pizza...\")\n",
    "\n",
    "# Uh-oh, something went wrong!\n",
    "logging.warning(\"Oven is too hot!\")\n",
    "logging.error(\"Pizza burned! Oh no!\")\n",
    "\n",
    "# Everything’s fine again\n",
    "logging.info(\"Made a new Cheese pizza successfully!\")"
   ]
  },
  {
   "cell_type": "code",
   "execution_count": 26,
   "id": "7a1cfe4b",
   "metadata": {},
   "outputs": [
    {
     "name": "stderr",
     "output_type": "stream",
     "text": [
      "2025-06-10 17:49:13,363 - INFO - Opening pizza shop!\n",
      "2025-06-10 17:49:13,364 - ERROR - Tried to divide by zero! No pizzas made!\n",
      "2025-06-10 17:49:13,365 - INFO - Closing pizza shop.\n"
     ]
    }
   ],
   "source": [
    "import logging\n",
    "\n",
    "# Set up logger to write to a file\n",
    "logging.basicConfig(\n",
    "    level=logging.INFO,\n",
    "    format='%(asctime)s - %(levelname)s - %(message)s',\n",
    "    filename='pizza_shop.log',\n",
    "    filemode='w'  # Overwrite file each time\n",
    ")\n",
    "\n",
    "# Make some pizzas\n",
    "logging.info(\"Opening pizza shop!\")\n",
    "try:\n",
    "    pizzas = 0\n",
    "    result = 10 / pizzas  # This will cause an error!\n",
    "    logging.info(\"Made pizzas successfully!\")\n",
    "except ZeroDivisionError:\n",
    "    logging.error(\"Tried to divide by zero! No pizzas made!\")\n",
    "logging.info(\"Closing pizza shop.\")"
   ]
  },
  {
   "cell_type": "code",
   "execution_count": 27,
   "id": "9bf35ce7",
   "metadata": {},
   "outputs": [
    {
     "name": "stderr",
     "output_type": "stream",
     "text": [
      "2025-06-10 17:50:30,356 - INFO - Starting pizza shop with 3 burned pizzas.\n",
      "2025-06-10 17:50:30,357 - ERROR - Too many pizzas burned!\n",
      "2025-06-10 17:50:30,358 - INFO - Closing pizza shop.\n"
     ]
    },
    {
     "name": "stdout",
     "output_type": "stream",
     "text": [
      "🚨 ALERT: Emergency! Too many pizzas burned! Call the chef! 🚨\n"
     ]
    }
   ],
   "source": [
    "import logging\n",
    "\n",
    "# Set up logger\n",
    "logging.basicConfig(\n",
    "    level=logging.INFO,\n",
    "    format='%(asctime)s - %(levelname)s - %(message)s',\n",
    "    filename='pizza_shop.log',\n",
    "    filemode='w'\n",
    ")\n",
    "\n",
    "# Fake alert function (pretend it sends an email)\n",
    "def send_alert(message):\n",
    "    print(f\"🚨 ALERT: {message} 🚨\")\n",
    "\n",
    "# Make pizzas and check for problems\n",
    "pizzas_burned = 3\n",
    "logging.info(f\"Starting pizza shop with {pizzas_burned} burned pizzas.\")\n",
    "\n",
    "if pizzas_burned > 2:\n",
    "    logging.error(\"Too many pizzas burned!\")\n",
    "    send_alert(\"Emergency! Too many pizzas burned! Call the chef!\")\n",
    "else:\n",
    "    logging.info(\"Pizzas are baking fine.\")\n",
    "logging.info(\"Closing pizza shop.\")"
   ]
  },
  {
   "cell_type": "code",
   "execution_count": 28,
   "id": "843771d7",
   "metadata": {},
   "outputs": [
    {
     "name": "stderr",
     "output_type": "stream",
     "text": [
      "2025-06-10 17:51:58,275 - INFO - Opening pizza shop\n",
      "2025-06-10 17:51:58,277 - WARNING - Too many pizzas burned: 3\n",
      "2025-06-10 17:51:58,278 - CRITICAL - Sending alert: Too many pizzas burned! Call the chef!\n"
     ]
    },
    {
     "name": "stdout",
     "output_type": "stream",
     "text": [
      "🚨 ALERT: Too many pizzas burned! Call the chef! 🚨\n",
      "Starting to make Pepperoni at 17:51:58...\n",
      "Starting to make Cheese at 17:51:58...\n",
      "Starting to make Veggie at 17:51:58...\n"
     ]
    },
    {
     "name": "stderr",
     "output_type": "stream",
     "text": [
      "2025-06-10 17:52:00,292 - ERROR - Pepperoni pizza burned!\n",
      "2025-06-10 17:52:00,294 - CRITICAL - Sending alert: Pepperoni pizza burned! Check the oven!\n",
      "2025-06-10 17:52:00,296 - INFO - Cheese pizza baked successfully\n"
     ]
    },
    {
     "name": "stdout",
     "output_type": "stream",
     "text": [
      "🚨 ALERT: Pepperoni pizza burned! Check the oven! 🚨\n",
      "Finished making Cheese at 17:52:00!\n"
     ]
    },
    {
     "name": "stderr",
     "output_type": "stream",
     "text": [
      "2025-06-10 17:52:01,287 - INFO - Veggie pizza baked successfully\n",
      "2025-06-10 17:52:01,289 - INFO - Closing pizza shop\n"
     ]
    },
    {
     "name": "stdout",
     "output_type": "stream",
     "text": [
      "Finished making Veggie at 17:52:01!\n"
     ]
    }
   ],
   "source": [
    "import asyncio\n",
    "import logging\n",
    "import time\n",
    "\n",
    "# Set up logger\n",
    "logging.basicConfig(\n",
    "    level=logging.DEBUG,\n",
    "    format='%(asctime)s - %(levelname)s - %(message)s',\n",
    "    filename='pizza_shop.log',\n",
    "    filemode='w'\n",
    ")\n",
    "logger = logging.getLogger('pizza_shop')\n",
    "\n",
    "# Fake alert function\n",
    "def send_alert(message):\n",
    "    logger.critical(f\"Sending alert: {message}\")\n",
    "    print(f\"🚨 ALERT: {message} 🚨\")\n",
    "\n",
    "# Async function to make a pizza\n",
    "async def make_pizza(pizza_name, bake_time, burn_chance=False):\n",
    "    logger.debug(f\"Preparing ingredients for {pizza_name}\")\n",
    "    print(f\"Starting to make {pizza_name} at {time.strftime('%X')}...\")\n",
    "    await asyncio.sleep(bake_time)\n",
    "    if burn_chance:\n",
    "        logger.error(f\"{pizza_name} pizza burned!\")\n",
    "        send_alert(f\"{pizza_name} pizza burned! Check the oven!\")\n",
    "    else:\n",
    "        logger.info(f\"{pizza_name} pizza baked successfully\")\n",
    "        print(f\"Finished making {pizza_name} at {time.strftime('%X')}!\")\n",
    "\n",
    "# Main async function\n",
    "async def main():\n",
    "    logger.info(\"Opening pizza shop\")\n",
    "    pizzas_burned = 3\n",
    "    if pizzas_burned > 2:\n",
    "        logger.warning(f\"Too many pizzas burned: {pizzas_burned}\")\n",
    "        send_alert(\"Too many pizzas burned! Call the chef!\")\n",
    "    # Make pizzas concurrently\n",
    "    await asyncio.gather(\n",
    "        make_pizza(\"Pepperoni\", 2, burn_chance=True),\n",
    "        make_pizza(\"Cheese\", 2),\n",
    "        make_pizza(\"Veggie\", 3)\n",
    "    )\n",
    "    logger.info(\"Closing pizza shop\")\n",
    "\n",
    "# Run the async program\n",
    "asyncio.run(main())"
   ]
  },
  {
   "cell_type": "code",
   "execution_count": null,
   "id": "d21a45ac",
   "metadata": {},
   "outputs": [],
   "source": []
  }
 ],
 "metadata": {
  "kernelspec": {
   "display_name": "Python 3",
   "language": "python",
   "name": "python3"
  },
  "language_info": {
   "codemirror_mode": {
    "name": "ipython",
    "version": 3
   },
   "file_extension": ".py",
   "mimetype": "text/x-python",
   "name": "python",
   "nbconvert_exporter": "python",
   "pygments_lexer": "ipython3",
   "version": "3.12.5"
  }
 },
 "nbformat": 4,
 "nbformat_minor": 5
}
