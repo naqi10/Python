{
 "cells": [
  {
   "cell_type": "code",
   "execution_count": 2,
   "id": "4f109441",
   "metadata": {},
   "outputs": [
    {
     "name": "stdout",
     "output_type": "stream",
     "text": [
      "hello, Ali\n"
     ]
    }
   ],
   "source": [
    "def greet(name):\n",
    "    return f\"hello, {name}\"\n",
    "print(greet(\"Ali\"))"
   ]
  },
  {
   "cell_type": "code",
   "execution_count": 3,
   "id": "6ddef81a",
   "metadata": {},
   "outputs": [
    {
     "name": "stdout",
     "output_type": "stream",
     "text": [
      "120\n",
      "120\n"
     ]
    }
   ],
   "source": [
    "def factorial_iter(n):\n",
    "    result = 1\n",
    "    for i in range(1, n+1):\n",
    "        result *=i\n",
    "    return result\n",
    "def factorial_rec(n):\n",
    "    if n==0 or n==1:\n",
    "        return 1\n",
    "    return n * factorial_rec(n-1)\n",
    "print(factorial_iter(5))\n",
    "print(factorial_rec(5))"
   ]
  },
  {
   "cell_type": "code",
   "execution_count": 4,
   "id": "7b8ef219",
   "metadata": {},
   "outputs": [
    {
     "name": "stdout",
     "output_type": "stream",
     "text": [
      "55\n"
     ]
    }
   ],
   "source": [
    "def fibonacci(n):\n",
    "    if n==0:\n",
    "        return 0\n",
    "    elif n==1:\n",
    "        return 1\n",
    "    else:\n",
    "        return fibonacci(n-1) + fibonacci(n-2)\n",
    "    \n",
    "print(fibonacci(10))"
   ]
  },
  {
   "cell_type": "code",
   "execution_count": 6,
   "id": "4d5b7e98",
   "metadata": {},
   "outputs": [
    {
     "name": "stdout",
     "output_type": "stream",
     "text": [
      "Squared: [1, 4, 9, 16, 25, 36, 49, 64, 81]\n",
      "Evens: [2, 4, 6, 8]\n"
     ]
    }
   ],
   "source": [
    "nums = [1,2,3,4,5,6,7,8,9]\n",
    "\n",
    "squared = list(map(lambda x: x**2, nums))\n",
    "evens = list(filter(lambda x: x%2==0, nums))\n",
    "print(\"Squared:\", squared)\n",
    "print(\"Evens:\", evens)"
   ]
  },
  {
   "cell_type": "code",
   "execution_count": 8,
   "id": "a3d2b88c",
   "metadata": {},
   "outputs": [
    {
     "name": "stdout",
     "output_type": "stream",
     "text": [
      "Counter: 11\n"
     ]
    }
   ],
   "source": [
    "counter = 10\n",
    "def increment_counter():\n",
    "    global counter\n",
    "    counter += 1\n",
    "    return counter\n",
    "print(\"Counter:\", increment_counter())"
   ]
  },
  {
   "cell_type": "code",
   "execution_count": 9,
   "id": "f5fa8252",
   "metadata": {},
   "outputs": [
    {
     "name": "stdout",
     "output_type": "stream",
     "text": [
      "idiaZiqaN\n"
     ]
    }
   ],
   "source": [
    "def reverse_string(s):\n",
    "    return s[::-1]\n",
    "print(reverse_string(\"NaqiZaidi\"))"
   ]
  },
  {
   "cell_type": "code",
   "execution_count": 10,
   "id": "1fba93b3",
   "metadata": {},
   "outputs": [
    {
     "name": "stdout",
     "output_type": "stream",
     "text": [
      "True\n"
     ]
    }
   ],
   "source": [
    "def is_palindrome(word):\n",
    "    return word == word[::-1]\n",
    "print(is_palindrome(\"radar\"))"
   ]
  },
  {
   "cell_type": "code",
   "execution_count": 11,
   "id": "784622d2",
   "metadata": {},
   "outputs": [
    {
     "name": "stdout",
     "output_type": "stream",
     "text": [
      "False\n"
     ]
    }
   ],
   "source": [
    "def is_palindrome(word):\n",
    "    return word ==word[::-1]\n",
    "print(is_palindrome(\"hello\"))"
   ]
  },
  {
   "cell_type": "code",
   "execution_count": 12,
   "id": "27be547a",
   "metadata": {},
   "outputs": [
    {
     "name": "stdout",
     "output_type": "stream",
     "text": [
      "720\n"
     ]
    }
   ],
   "source": [
    "def factorial(n):\n",
    "    return 1 if n==0 else n*factorial(n-1)\n",
    "print(factorial(6))"
   ]
  },
  {
   "cell_type": "code",
   "execution_count": 13,
   "id": "947ac509",
   "metadata": {},
   "outputs": [
    {
     "name": "stdout",
     "output_type": "stream",
     "text": [
      "8\n"
     ]
    }
   ],
   "source": [
    "def fibonacci(n):\n",
    "    return n if n<=1 else fibonacci(n-1) + fibonacci(n-2)\n",
    "print(fibonacci(6))"
   ]
  },
  {
   "cell_type": "code",
   "execution_count": 15,
   "id": "f6a9b8ac",
   "metadata": {},
   "outputs": [
    {
     "name": "stdout",
     "output_type": "stream",
     "text": [
      "[1, 4, 9, 16, 25]\n"
     ]
    }
   ],
   "source": [
    "def square_list(lst):\n",
    "    return list(map(lambda x: x**2, lst))\n",
    "print(square_list([1, 2, 3, 4, 5]))"
   ]
  },
  {
   "cell_type": "code",
   "execution_count": 17,
   "id": "206ad3bd",
   "metadata": {},
   "outputs": [
    {
     "name": "stdout",
     "output_type": "stream",
     "text": [
      "[2, 4, 6, 8]\n"
     ]
    }
   ],
   "source": [
    "def even_filter(lst):\n",
    "    return list(filter(lambda x: x % 2 == 0, lst))\n",
    "print(even_filter([1, 2, 3, 4, 5, 6, 7, 8, 9]))"
   ]
  },
  {
   "cell_type": "code",
   "execution_count": 18,
   "id": "6153a4af",
   "metadata": {},
   "outputs": [
    {
     "name": "stdout",
     "output_type": "stream",
     "text": [
      "15\n"
     ]
    }
   ],
   "source": [
    "def get_result(a, b):\n",
    "    return a + b if a >b else a-b\n",
    "print(get_result(10, 5))"
   ]
  },
  {
   "cell_type": "code",
   "execution_count": 27,
   "id": "132293d3",
   "metadata": {},
   "outputs": [
    {
     "name": "stdout",
     "output_type": "stream",
     "text": [
      "True\n",
      "None\n",
      "True\n",
      "None\n"
     ]
    }
   ],
   "source": [
    "import math\n",
    "\n",
    "def is_prime(n):\n",
    "    if n <= 1:\n",
    "        return False\n",
    "    else:\n",
    "        is_prime_flag = True\n",
    "        for i in range(2, int(math.sqrt(n)) + 1):\n",
    "            if n % i == 0:\n",
    "                is_prime_flag = False\n",
    "                break\n",
    "        print(is_prime_flag)\n",
    "        \n",
    "print(is_prime(29))\n",
    "print(is_prime(11))"
   ]
  },
  {
   "cell_type": "code",
   "execution_count": 30,
   "id": "1ccb84c3",
   "metadata": {},
   "outputs": [
    {
     "name": "stdout",
     "output_type": "stream",
     "text": [
      "[1, 2, 3, 4, 5, 6, 7, 8, 9]\n"
     ]
    }
   ],
   "source": [
    "import builtins\n",
    "\n",
    "my_list = [1,2,3,3,4,5,6,6,7,8,8,8,9]\n",
    "def remove_duplicates(lst):\n",
    "    return builtins.list(set(lst))\n",
    "print(remove_duplicates(my_list))"
   ]
  },
  {
   "cell_type": "code",
   "execution_count": null,
   "id": "318b07d1",
   "metadata": {},
   "outputs": [],
   "source": []
  }
 ],
 "metadata": {
  "kernelspec": {
   "display_name": "Python 3",
   "language": "python",
   "name": "python3"
  },
  "language_info": {
   "codemirror_mode": {
    "name": "ipython",
    "version": 3
   },
   "file_extension": ".py",
   "mimetype": "text/x-python",
   "name": "python",
   "nbconvert_exporter": "python",
   "pygments_lexer": "ipython3",
   "version": "3.12.5"
  }
 },
 "nbformat": 4,
 "nbformat_minor": 5
}
