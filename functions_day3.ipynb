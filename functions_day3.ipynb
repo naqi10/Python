{
 "cells": [
  {
   "cell_type": "code",
   "execution_count": 1,
   "id": "4ca5089d",
   "metadata": {},
   "outputs": [
    {
     "name": "stdout",
     "output_type": "stream",
     "text": [
      "[0.0, 0.25, 0.5, 0.75, 1.0]\n",
      "[0.0, 0.25, 0.5, 0.75, 1.0]\n"
     ]
    }
   ],
   "source": [
    "def normalize(lst):\n",
    "    \"\"\"scale all number in a list to a range between 0 and 1\"\"\"\n",
    "    min_val = min(lst)\n",
    "    max_val = max(lst)\n",
    "    return [(x - min_val) / (max_val - min_val) for x in lst]\n",
    "print(normalize([1, 2, 3, 4, 5])) \n",
    "print(normalize([10, 20, 30, 40, 50]))\n",
    "    "
   ]
  },
  {
   "cell_type": "code",
   "execution_count": 3,
   "id": "49d10a4f",
   "metadata": {},
   "outputs": [
    {
     "name": "stdout",
     "output_type": "stream",
     "text": [
      "3.0\n",
      "3\n",
      "1.4142135623730951\n"
     ]
    }
   ],
   "source": [
    "def mean(lst):\n",
    "    \"\"\"return average of numbers\"\"\"\n",
    "    return sum(lst) / len(lst)\n",
    "\n",
    "def median(lst):\n",
    "    \"\"\"return median of numbers\"\"\"\n",
    "    lst = sorted(lst)\n",
    "    n = len(lst)\n",
    "    if n % 2 == 1:\n",
    "        return lst[n // 2]\n",
    "    else:\n",
    "        return (lst[n // 2-1] + lst[n // 2]) / 2\n",
    "    \n",
    "def std_dev(lst):\n",
    "    \"\"\"return standard deviation of numbers\"\"\"\n",
    "    m = mean(lst)\n",
    "    return (sum((x - m) ** 2 for x in lst) / len(lst)) ** 0.5\n",
    "\n",
    "data = [1, 2, 3, 4, 5]\n",
    "print(mean(data))     \n",
    "print(median(data))\n",
    "print(std_dev(data))  \n",
    "\n",
    "    "
   ]
  },
  {
   "cell_type": "code",
   "execution_count": 4,
   "id": "5c8ac989",
   "metadata": {},
   "outputs": [
    {
     "name": "stdout",
     "output_type": "stream",
     "text": [
      "[0, 1, 0, 2, 3, 3]\n"
     ]
    }
   ],
   "source": [
    "def encode_labels(lst):\n",
    "    \"\"\"turn text labels into numbers\"\"\"\n",
    "    label_map = {}\n",
    "    result = []\n",
    "    current_label = 0\n",
    "    \n",
    "    for label in lst:\n",
    "        if label not in label_map:\n",
    "            label_map[label] = current_label\n",
    "            current_label += 1\n",
    "        result.append(label_map[label])\n",
    "    return result\n",
    "print(encode_labels(['cat', 'dog', 'cat', 'bird', 'elephant', 'elephant']))\n",
    "\n"
   ]
  },
  {
   "cell_type": "code",
   "execution_count": 5,
   "id": "3b9d5089",
   "metadata": {},
   "outputs": [
    {
     "name": "stdout",
     "output_type": "stream",
     "text": [
      "['hello', 'world', 'this', 'is', 'a', 'test']\n"
     ]
    }
   ],
   "source": [
    "import re\n",
    "\n",
    "def tokenize(text):\n",
    "    \"\"\"Break sentence into words (tokens)\"\"\"\n",
    "    return re.findall(r'\\b\\w+\\b', text.lower())\n",
    "print(tokenize(\"Hello, world! This is a test.\"))"
   ]
  },
  {
   "cell_type": "code",
   "execution_count": null,
   "id": "b17992d0",
   "metadata": {},
   "outputs": [
    {
     "name": "stdout",
     "output_type": "stream",
     "text": [
      "{'ai': 2, 'is': 2, 'powerful': 1, 'and': 1, 'smart': 1}\n"
     ]
    }
   ],
   "source": [
    "def count_words(text):\n",
    "    \"\"\"return word counts in a dictionary\"\"\"\n",
    "    words = tokenize(text)\n",
    "    counts = {}\n",
    "    for word in words:\n",
    "        counts[word] = counts.get(word, 0) + 1\n",
    "    return counts\n",
    "print(count_words(\"AI is powerful and AI is smart\"))\n",
    "\n"
   ]
  },
  {
   "cell_type": "code",
   "execution_count": 13,
   "id": "4e22856e",
   "metadata": {},
   "outputs": [
    {
     "name": "stdout",
     "output_type": "stream",
     "text": [
      "Name: Naqi\n",
      "Traits: ('smart', 'focused')\n",
      "Details: {'age': 25, 'skill': 'AI'}\n"
     ]
    }
   ],
   "source": [
    "def describe_person(name, *traits, **details):\n",
    "    \"\"\"Print info about a person using *args and **kwargs\"\"\"\n",
    "    print(f\"Name: {name}\")\n",
    "    print(\"Traits:\", traits)\n",
    "    print(\"Details:\", details)\n",
    "\n",
    "describe_person(\"Naqi\", \"smart\", \"focused\", age=25, skill=\"AI\")\n"
   ]
  },
  {
   "cell_type": "code",
   "execution_count": 14,
   "id": "c45700ba",
   "metadata": {},
   "outputs": [
    {
     "name": "stdout",
     "output_type": "stream",
     "text": [
      "Hello, Alice!\n"
     ]
    }
   ],
   "source": [
    "def greet(name):\n",
    "    \"\"\"Say hello to someone\"\"\"\n",
    "    return f\"Hello, {name}!\"\n",
    "print(greet(\"Alice\"))"
   ]
  },
  {
   "cell_type": "code",
   "execution_count": 16,
   "id": "2b538a73",
   "metadata": {},
   "outputs": [
    {
     "name": "stdout",
     "output_type": "stream",
     "text": [
      "All tests passed!\n"
     ]
    }
   ],
   "source": [
    "def double(x): return x * 2\n",
    "\n",
    "\n",
    "assert double(5) == 10\n",
    "assert double(0) == 0\n",
    "print(\"All tests passed!\")\n"
   ]
  },
  {
   "cell_type": "code",
   "execution_count": null,
   "id": "0182b3a6",
   "metadata": {},
   "outputs": [],
   "source": []
  }
 ],
 "metadata": {
  "kernelspec": {
   "display_name": "Python 3",
   "language": "python",
   "name": "python3"
  },
  "language_info": {
   "codemirror_mode": {
    "name": "ipython",
    "version": 3
   },
   "file_extension": ".py",
   "mimetype": "text/x-python",
   "name": "python",
   "nbconvert_exporter": "python",
   "pygments_lexer": "ipython3",
   "version": "3.12.5"
  }
 },
 "nbformat": 4,
 "nbformat_minor": 5
}
